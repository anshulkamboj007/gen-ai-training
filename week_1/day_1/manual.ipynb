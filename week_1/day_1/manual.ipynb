{
 "cells": [
  {
   "cell_type": "code",
   "execution_count": 2,
   "id": "696e1f22",
   "metadata": {},
   "outputs": [],
   "source": [
    "import pandas as pd\n",
    "import numpy as np"
   ]
  },
  {
   "cell_type": "code",
   "execution_count": 3,
   "id": "4a3d75b8",
   "metadata": {},
   "outputs": [],
   "source": [
    "def linear_regression(x,y):\n",
    "    x=np.array(x).flatten()\n",
    "    y=np.array(y).flatten()\n",
    " \n",
    "    b1_numerator=0\n",
    "    b1_denominator=0\n",
    "\n",
    "    for i in range(len(x)):\n",
    "        x_mean=x.mean()\n",
    "        y_mean=y.mean()\n",
    "        \n",
    "        b1_numerator +=(x-x_mean)*(y-y_mean)\n",
    "        b1_denominator+=(x-x_mean)**2\n",
    "\n",
    "    b1=b1_numerator/b1_denominator\n",
    "    b0=y_mean-b1*x_mean\n",
    "\n",
    "    return b0,b1\n",
    "\n",
    "\n"
   ]
  },
  {
   "cell_type": "code",
   "execution_count": 5,
   "id": "b9c14f90",
   "metadata": {},
   "outputs": [],
   "source": [
    "df=pd.read_csv('Salary_dataset.csv')\n",
    "X=df[['YearsExperience']]\n",
    "y=df['Salary']"
   ]
  },
  {
   "cell_type": "code",
   "execution_count": 6,
   "id": "c1a62098",
   "metadata": {},
   "outputs": [
    {
     "name": "stdout",
     "output_type": "stream",
     "text": [
      "[ 2.89028608e+04  3.58113488e+04  2.16738182e+04  2.29413521e+04\n",
      "  1.32139700e+04  3.25754586e+04  3.89070663e+04  2.07828770e+04\n",
      "  4.63980189e+04  1.28760331e+04  2.70350377e+04 -7.29401015e+03\n",
      " -2.50032487e+03 -8.41723077e+03 -2.31132459e+04 -2.96214839e+04\n",
      " -1.77086250e+05  2.95251400e+06  2.65458182e+04 -6.54022524e+04\n",
      "  1.87088430e+04  8.52922388e+03  2.30586701e+04  5.10121016e+03\n",
      "  2.25718425e+04  3.25715443e+04  2.30352229e+04  2.97439938e+04\n",
      "  2.56469733e+04  2.81304422e+04] [   8700.94936709    7424.75083056   10036.36363636    9802.21327968\n",
      "   11599.14346895    8022.51381215    6852.88184438   10200.94637224\n",
      "    5469.0851735    11661.57024793    9045.99056604   15387.56345178\n",
      "   14502.03045685   15595.05494505   18309.83606557   19512.09677419\n",
      "   46753.125      -531375.00000006    9136.36363636   26121.84466019\n",
      "   10584.08071749   12464.55223881    9780.54123711   13097.80600462\n",
      "    9870.47244094    8023.23688969    9784.87261146    8545.56765163\n",
      "    9302.40641711    8843.63753213]\n"
     ]
    }
   ],
   "source": [
    "b0, b1 = linear_regression(X, y)\n",
    "print(b0, b1)"
   ]
  },
  {
   "cell_type": "code",
   "execution_count": null,
   "id": "f1ff10ca",
   "metadata": {},
   "outputs": [],
   "source": []
  }
 ],
 "metadata": {
  "kernelspec": {
   "display_name": "Python 3",
   "language": "python",
   "name": "python3"
  },
  "language_info": {
   "codemirror_mode": {
    "name": "ipython",
    "version": 3
   },
   "file_extension": ".py",
   "mimetype": "text/x-python",
   "name": "python",
   "nbconvert_exporter": "python",
   "pygments_lexer": "ipython3",
   "version": "3.14.0"
  }
 },
 "nbformat": 4,
 "nbformat_minor": 5
}
